{
 "cells": [
  {
   "cell_type": "markdown",
   "metadata": {},
   "source": [
    "## Data Preprocessing Instruction (for Semantic Segmentation)\n",
    "\n",
    "This file provide a simple implementation to transfer MCD *.pcd files to binary point cloud input and labels for semantic segmentation.\n",
    "\n",
    "### 1. Preliminary Installation\n",
    "\n",
    "Some preliminary packages need to be installed in advanced. Note that pypcd is required to be installed from our modified source, since the official one is no longer maintained for the current python version. Details can be referred to the pypcd issue https://github.com/dimatura/pypcd/issues/28."
   ]
  },
  {
   "cell_type": "code",
   "execution_count": null,
   "metadata": {
    "vscode": {
     "languageId": "shellscript"
    }
   },
   "outputs": [],
   "source": [
    "pip install numpy\n",
    "pip install --upgrade git+https://github.com/mcdviral/pypcd.git\n",
    "pip install tqdm"
   ]
  },
  {
   "cell_type": "markdown",
   "metadata": {},
   "source": [
    "### 2. Data Organization\n",
    "\n",
    "Next, download the annotated lidar files from our official website and unzip them subsequently. We recommend you to rename the folder of different sequence to its sequence name (e.g., ntu_day_01) for a consistent data organization with ours. To this end, you should have a data folder organized as follows.   "
   ]
  },
  {
   "cell_type": "markdown",
   "metadata": {},
   "source": [
    "📦MCD_root_folder\n",
    "<br>\n",
    " ┣ 📂SEQUENCE_NAME_01\n",
    " <br>\n",
    " ┃ ┣ 📜cloud_0000.pcd\n",
    " <br>\n",
    " ┃ ┣ 📜cloud_0001.pcd\n",
    " <br>\n",
    " ┃ ┗ 📜...\n",
    " <br>\n",
    " ┣ 📂SEQUENCE_NAME_02\n",
    " <br>\n",
    " ┃ ┣ 📜cloud_0000.pcd\n",
    " <br>\n",
    " ┃ ┣ 📜cloud_0001.pcd\n",
    " <br>\n",
    " ┃ ┗ 📜...\n",
    " <br>\n",
    " ┣ ...\n",
    " <br>\n",
    " ┣ 📂SEQUENCE_NAME_N\n",
    " <br>\n",
    " ┃ ┣ 📜cloud_0000.pcd\n",
    " <br>\n",
    " ┗ ┗ 📜cloud_0001.pcd"
   ]
  },
  {
   "cell_type": "markdown",
   "metadata": {},
   "source": [
    "### 3. Data Preprocessing\n",
    "\n",
    "Finally, we provide the following code snippets to extract the segmentation input and labels from the *.pcd file and store them into easy-to-read binary files. Make sure you have the writing access in the data folder."
   ]
  },
  {
   "cell_type": "code",
   "execution_count": null,
   "metadata": {},
   "outputs": [],
   "source": [
    "import os\n",
    "import glob\n",
    "import numpy as np\n",
    "from pypcd import pypcd\n",
    "from tqdm import tqdm\n",
    "\n",
    "#* Change the following folder path\n",
    "mcd_root_dir = \"/home/aaron/Downloads/mcd_viral\"\n",
    "\n",
    "for seq_dir in os.listdir(mcd_root_dir):\n",
    "    curr_seq_dir = os.path.join(mcd_root_dir, seq_dir)\n",
    "    pcd_files = glob.glob(curr_seq_dir + '/*.pcd')\n",
    "    pcd_files = sorted(pcd_files)\n",
    "    \n",
    "    # Create a pcd, bin, label folder\n",
    "    os.makedirs(os.path.join(curr_seq_dir, 'pcd'), exist_ok=True)\n",
    "    os.makedirs(os.path.join(curr_seq_dir, 'bin'), exist_ok=True)\n",
    "    os.makedirs(os.path.join(curr_seq_dir, 'labels'), exist_ok=True)\n",
    "    \n",
    "    # Log\n",
    "    print(\"-\"*60)\n",
    "    print(\"Start converting sequence: {}\".format(seq_dir))\n",
    "    print(\"-\"*60)\n",
    "    \n",
    "    for pcd in tqdm(pcd_files):\n",
    "        # Read the pcd\n",
    "        cloud_pcd = pypcd.PointCloud.from_path(pcd).pc_data\n",
    "        xyz   = np.array([list(p) for p in cloud_pcd[['x', 'y', 'z']]], dtype=np.float32)\n",
    "        \n",
    "        # Binary data input/label\n",
    "        cloud_in_bin = np.concatenate(\n",
    "            [xyz, cloud_pcd['intensity'].reshape(-1,1)], axis=1).astype(np.float32)\n",
    "        cloud_label_bin = cloud_pcd['label'].astype(np.int32)\n",
    "        \n",
    "        # Save binary input/label\n",
    "        cloudidx_str = pcd.split('/')[-1].replace('.pcd', '')\n",
    "        cloud_in_bin.tofile(os.path.join(curr_seq_dir, 'bin', '{}.bin'.format(cloudidx_str)))\n",
    "        cloud_label_bin.tofile(os.path.join(curr_seq_dir, 'labels', '{}.label'.format(cloudidx_str)))\n",
    "        \n",
    "        # Move pcd file into pcd folder\n",
    "        os.replace(pcd, os.path.join(curr_seq_dir, 'pcd', pcd.split('/')[-1]))\n",
    "    \n",
    "    print(\"\\n\")\n",
    "    \n",
    "print(\"All pcd to bin completed!\")\n",
    "    "
   ]
  },
  {
   "cell_type": "markdown",
   "metadata": {},
   "source": [
    "After the convertion completed, you should have the root folder organized as follows:"
   ]
  },
  {
   "cell_type": "markdown",
   "metadata": {},
   "source": [
    "📦MCD_root_folder\n",
    "<br>\n",
    " ┣ 📂SEQUENCE_NAME_01\n",
    " <br>\n",
    " ┃ ┣ 📂pcd\n",
    "  <br>\n",
    " ┃ ┃ ┣ 📜cloud_0000.pcd\n",
    " <br>\n",
    " ┃ ┗ ┣ 📜...\n",
    "  <br>\n",
    " ┃ ┣ 📂bin\n",
    "  <br>\n",
    " ┃ ┃ ┣ 📜cloud_0000.bin\n",
    " <br>\n",
    " ┃ ┗ ┣ 📜...\n",
    " <br>\n",
    " ┃ ┣ 📂labels\n",
    " <br>\n",
    " ┃ ┃ ┣ 📜cloud_0000.label\n",
    " <br>\n",
    " ┃ ┗ ┣ 📜...\n",
    " <br>\n",
    " ┣ 📂SEQUENCE_NAME_02\n",
    " <br>\n",
    " ┃ ┣ 📂pcd\n",
    "  <br>\n",
    " ┃ ┣ 📂bin\n",
    " <br>\n",
    " ┃ ┣ 📂labels\n",
    " <br>\n",
    " ┣ ...\n"
   ]
  }
 ],
 "metadata": {
  "kernelspec": {
   "display_name": "Python 3 (ipykernel)",
   "language": "python",
   "name": "python3"
  },
  "language_info": {
   "codemirror_mode": {
    "name": "ipython",
    "version": 3
   },
   "file_extension": ".py",
   "mimetype": "text/x-python",
   "name": "python",
   "nbconvert_exporter": "python",
   "pygments_lexer": "ipython3",
   "version": "3.12.2"
  }
 },
 "nbformat": 4,
 "nbformat_minor": 2
}
